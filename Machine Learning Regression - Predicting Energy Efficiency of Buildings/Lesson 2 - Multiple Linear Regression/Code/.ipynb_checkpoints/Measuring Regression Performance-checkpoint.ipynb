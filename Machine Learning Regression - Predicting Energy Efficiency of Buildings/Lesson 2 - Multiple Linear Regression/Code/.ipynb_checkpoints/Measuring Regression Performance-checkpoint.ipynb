{
 "cells": [
  {
   "cell_type": "code",
   "execution_count": null,
   "id": "f2d947b1",
   "metadata": {},
   "outputs": [],
   "source": []
  },
  {
   "cell_type": "code",
   "execution_count": 5,
   "id": "d842a253",
   "metadata": {},
   "outputs": [],
   "source": [
    "import pandas as pd\n",
    "from sklearn.preprocessing import MinMaxScaler"
   ]
  },
  {
   "cell_type": "code",
   "execution_count": 33,
   "id": "bfbe2b8e",
   "metadata": {},
   "outputs": [
    {
     "data": {
      "text/html": [
       "<div>\n",
       "<style scoped>\n",
       "    .dataframe tbody tr th:only-of-type {\n",
       "        vertical-align: middle;\n",
       "    }\n",
       "\n",
       "    .dataframe tbody tr th {\n",
       "        vertical-align: top;\n",
       "    }\n",
       "\n",
       "    .dataframe thead th {\n",
       "        text-align: right;\n",
       "    }\n",
       "</style>\n",
       "<table border=\"1\" class=\"dataframe\">\n",
       "  <thead>\n",
       "    <tr style=\"text-align: right;\">\n",
       "      <th></th>\n",
       "      <th>Relative_Compactness</th>\n",
       "      <th>Surface_Area</th>\n",
       "      <th>Wall_Area</th>\n",
       "      <th>Roof_Area</th>\n",
       "      <th>Overall_Height</th>\n",
       "      <th>Orientation</th>\n",
       "      <th>Glazing_Area</th>\n",
       "      <th>Glazing_Area_Distribution</th>\n",
       "      <th>Heating_Load</th>\n",
       "      <th>Cooling_Load</th>\n",
       "    </tr>\n",
       "  </thead>\n",
       "  <tbody>\n",
       "    <tr>\n",
       "      <th>0</th>\n",
       "      <td>0.98</td>\n",
       "      <td>514.5</td>\n",
       "      <td>294.0</td>\n",
       "      <td>110.25</td>\n",
       "      <td>7.0</td>\n",
       "      <td>2</td>\n",
       "      <td>0.0</td>\n",
       "      <td>0</td>\n",
       "      <td>15.55</td>\n",
       "      <td>21.33</td>\n",
       "    </tr>\n",
       "    <tr>\n",
       "      <th>1</th>\n",
       "      <td>0.98</td>\n",
       "      <td>514.5</td>\n",
       "      <td>294.0</td>\n",
       "      <td>110.25</td>\n",
       "      <td>7.0</td>\n",
       "      <td>3</td>\n",
       "      <td>0.0</td>\n",
       "      <td>0</td>\n",
       "      <td>15.55</td>\n",
       "      <td>21.33</td>\n",
       "    </tr>\n",
       "    <tr>\n",
       "      <th>2</th>\n",
       "      <td>0.98</td>\n",
       "      <td>514.5</td>\n",
       "      <td>294.0</td>\n",
       "      <td>110.25</td>\n",
       "      <td>7.0</td>\n",
       "      <td>4</td>\n",
       "      <td>0.0</td>\n",
       "      <td>0</td>\n",
       "      <td>15.55</td>\n",
       "      <td>21.33</td>\n",
       "    </tr>\n",
       "    <tr>\n",
       "      <th>3</th>\n",
       "      <td>0.98</td>\n",
       "      <td>514.5</td>\n",
       "      <td>294.0</td>\n",
       "      <td>110.25</td>\n",
       "      <td>7.0</td>\n",
       "      <td>5</td>\n",
       "      <td>0.0</td>\n",
       "      <td>0</td>\n",
       "      <td>15.55</td>\n",
       "      <td>21.33</td>\n",
       "    </tr>\n",
       "    <tr>\n",
       "      <th>4</th>\n",
       "      <td>0.90</td>\n",
       "      <td>563.5</td>\n",
       "      <td>318.5</td>\n",
       "      <td>122.50</td>\n",
       "      <td>7.0</td>\n",
       "      <td>2</td>\n",
       "      <td>0.0</td>\n",
       "      <td>0</td>\n",
       "      <td>20.84</td>\n",
       "      <td>28.28</td>\n",
       "    </tr>\n",
       "    <tr>\n",
       "      <th>...</th>\n",
       "      <td>...</td>\n",
       "      <td>...</td>\n",
       "      <td>...</td>\n",
       "      <td>...</td>\n",
       "      <td>...</td>\n",
       "      <td>...</td>\n",
       "      <td>...</td>\n",
       "      <td>...</td>\n",
       "      <td>...</td>\n",
       "      <td>...</td>\n",
       "    </tr>\n",
       "    <tr>\n",
       "      <th>763</th>\n",
       "      <td>0.64</td>\n",
       "      <td>784.0</td>\n",
       "      <td>343.0</td>\n",
       "      <td>220.50</td>\n",
       "      <td>3.5</td>\n",
       "      <td>5</td>\n",
       "      <td>0.4</td>\n",
       "      <td>5</td>\n",
       "      <td>17.88</td>\n",
       "      <td>21.40</td>\n",
       "    </tr>\n",
       "    <tr>\n",
       "      <th>764</th>\n",
       "      <td>0.62</td>\n",
       "      <td>808.5</td>\n",
       "      <td>367.5</td>\n",
       "      <td>220.50</td>\n",
       "      <td>3.5</td>\n",
       "      <td>2</td>\n",
       "      <td>0.4</td>\n",
       "      <td>5</td>\n",
       "      <td>16.54</td>\n",
       "      <td>16.88</td>\n",
       "    </tr>\n",
       "    <tr>\n",
       "      <th>765</th>\n",
       "      <td>0.62</td>\n",
       "      <td>808.5</td>\n",
       "      <td>367.5</td>\n",
       "      <td>220.50</td>\n",
       "      <td>3.5</td>\n",
       "      <td>3</td>\n",
       "      <td>0.4</td>\n",
       "      <td>5</td>\n",
       "      <td>16.44</td>\n",
       "      <td>17.11</td>\n",
       "    </tr>\n",
       "    <tr>\n",
       "      <th>766</th>\n",
       "      <td>0.62</td>\n",
       "      <td>808.5</td>\n",
       "      <td>367.5</td>\n",
       "      <td>220.50</td>\n",
       "      <td>3.5</td>\n",
       "      <td>4</td>\n",
       "      <td>0.4</td>\n",
       "      <td>5</td>\n",
       "      <td>16.48</td>\n",
       "      <td>16.61</td>\n",
       "    </tr>\n",
       "    <tr>\n",
       "      <th>767</th>\n",
       "      <td>0.62</td>\n",
       "      <td>808.5</td>\n",
       "      <td>367.5</td>\n",
       "      <td>220.50</td>\n",
       "      <td>3.5</td>\n",
       "      <td>5</td>\n",
       "      <td>0.4</td>\n",
       "      <td>5</td>\n",
       "      <td>16.64</td>\n",
       "      <td>16.03</td>\n",
       "    </tr>\n",
       "  </tbody>\n",
       "</table>\n",
       "<p>768 rows × 10 columns</p>\n",
       "</div>"
      ],
      "text/plain": [
       "     Relative_Compactness  Surface_Area  Wall_Area  Roof_Area  Overall_Height  \\\n",
       "0                    0.98         514.5      294.0     110.25             7.0   \n",
       "1                    0.98         514.5      294.0     110.25             7.0   \n",
       "2                    0.98         514.5      294.0     110.25             7.0   \n",
       "3                    0.98         514.5      294.0     110.25             7.0   \n",
       "4                    0.90         563.5      318.5     122.50             7.0   \n",
       "..                    ...           ...        ...        ...             ...   \n",
       "763                  0.64         784.0      343.0     220.50             3.5   \n",
       "764                  0.62         808.5      367.5     220.50             3.5   \n",
       "765                  0.62         808.5      367.5     220.50             3.5   \n",
       "766                  0.62         808.5      367.5     220.50             3.5   \n",
       "767                  0.62         808.5      367.5     220.50             3.5   \n",
       "\n",
       "     Orientation  Glazing_Area  Glazing_Area_Distribution  Heating_Load  \\\n",
       "0              2           0.0                          0         15.55   \n",
       "1              3           0.0                          0         15.55   \n",
       "2              4           0.0                          0         15.55   \n",
       "3              5           0.0                          0         15.55   \n",
       "4              2           0.0                          0         20.84   \n",
       "..           ...           ...                        ...           ...   \n",
       "763            5           0.4                          5         17.88   \n",
       "764            2           0.4                          5         16.54   \n",
       "765            3           0.4                          5         16.44   \n",
       "766            4           0.4                          5         16.48   \n",
       "767            5           0.4                          5         16.64   \n",
       "\n",
       "     Cooling_Load  \n",
       "0           21.33  \n",
       "1           21.33  \n",
       "2           21.33  \n",
       "3           21.33  \n",
       "4           28.28  \n",
       "..            ...  \n",
       "763         21.40  \n",
       "764         16.88  \n",
       "765         17.11  \n",
       "766         16.61  \n",
       "767         16.03  \n",
       "\n",
       "[768 rows x 10 columns]"
      ]
     },
     "execution_count": 33,
     "metadata": {},
     "output_type": "execute_result"
    }
   ],
   "source": [
    "df = pd.read_excel('dataset/energy_efficiency.xlsx')\n",
    "column_names = {'X1':'Relative_Compactness', 'X2': 'Surface_Area',\n",
    "           'X3': 'Wall_Area', 'X4': 'Roof_Area',\n",
    "           'X5': 'Overall_Height', 'X6': 'Orientation',\n",
    "           'X7': 'Glazing_Area', 'X8': 'Glazing_Area_Distribution',\n",
    "           'Y1': 'Heating_Load', 'Y2': 'Cooling_Load'}\n",
    "df.rename(columns=column_names)"
   ]
  },
  {
   "cell_type": "code",
   "execution_count": 44,
   "id": "f8757ee0",
   "metadata": {},
   "outputs": [
    {
     "data": {
      "text/plain": [
       "0      0.257212\n",
       "1      0.257212\n",
       "2      0.257212\n",
       "3      0.257212\n",
       "4      0.399838\n",
       "         ...   \n",
       "763    0.320032\n",
       "764    0.283904\n",
       "765    0.281208\n",
       "766    0.282286\n",
       "767    0.286600\n",
       "Name: Y1, Length: 768, dtype: float64"
      ]
     },
     "execution_count": 44,
     "metadata": {},
     "output_type": "execute_result"
    }
   ],
   "source": [
    "# normalising our dataset to a common scale using the min max scaler\n",
    "scaler = MinMaxScaler()\n",
    "normalised_df = pd.DataFrame(scaler.fit_transform(df), columns=df.columns)\n",
    "#normalised_df\n",
    "features_df = normalised_df.drop(columns= ['Y1','Y2'])\n",
    "#features_df\n",
    "heating_target = normalised_df['Y1']\n",
    "#heating_target"
   ]
  },
  {
   "cell_type": "code",
   "execution_count": 47,
   "id": "735f20ea",
   "metadata": {},
   "outputs": [],
   "source": [
    "# splitting our dataset into training and testing dataset\n",
    "from sklearn.model_selection import train_test_split\n",
    "x_train, x_test, y_train, y_test = train_test_split(features_df, heating_target, test_size=0.3, random_state=1)"
   ]
  },
  {
   "cell_type": "code",
   "execution_count": 52,
   "id": "6cbd607b",
   "metadata": {},
   "outputs": [
    {
     "data": {
      "text/plain": [
       "array([0.19213867, 0.58276367, 0.7355957 , 0.7109375 , 0.76196289,\n",
       "       0.24194336, 0.16894531, 0.60986328, 0.23486328, 0.55883789,\n",
       "       0.30932617, 0.65917969, 0.6965332 , 0.29321289, 0.19189453,\n",
       "       0.72119141, 0.57861328, 0.31201172, 0.25683594, 0.74487305,\n",
       "       0.70410156, 0.07861328, 0.61938477, 0.32104492, 0.20507812,\n",
       "       0.73999023, 0.31860352, 0.18798828, 0.79516602, 0.2722168 ,\n",
       "       0.6784668 , 0.72802734, 0.14038086, 0.28442383, 0.57836914,\n",
       "       0.80615234, 0.32592773, 0.12939453, 0.72900391, 0.24169922,\n",
       "       0.82055664, 0.15991211, 0.10986328, 0.16821289, 0.12060547,\n",
       "       0.14941406, 0.48999023, 0.69580078, 0.7578125 , 0.71875   ,\n",
       "       0.10107422, 0.66699219, 0.10766602, 0.24145508, 0.76098633,\n",
       "       0.76538086, 0.73486328, 0.63525391, 0.15844727, 0.2890625 ,\n",
       "       0.19555664, 0.59375   , 0.61157227, 0.7644043 , 0.56835938,\n",
       "       0.92407227, 0.68115234, 0.31274414, 0.67114258, 0.23291016,\n",
       "       0.54858398, 0.24487305, 0.23486328, 0.72436523, 0.2878418 ,\n",
       "       0.68554688, 0.6472168 , 0.73730469, 0.24902344, 0.54785156,\n",
       "       0.12597656, 0.65478516, 0.25048828, 0.75      , 0.24243164,\n",
       "       0.89013672, 0.91308594, 0.82470703, 0.25      , 0.17407227,\n",
       "       0.64038086, 0.52148438, 0.14477539, 0.75024414, 0.26831055,\n",
       "       0.67456055, 0.14379883, 0.68457031, 0.05639648, 0.78051758,\n",
       "       0.77124023, 0.28369141, 0.62695312, 0.16601562, 0.27539062,\n",
       "       0.19165039, 0.59716797, 0.5871582 , 0.63452148, 0.83325195,\n",
       "       0.90893555, 0.46630859, 0.57495117, 0.15087891, 0.84765625,\n",
       "       0.11254883, 0.63037109, 0.70483398, 0.70825195, 0.29125977,\n",
       "       0.55615234, 0.60888672, 0.26123047, 0.55200195, 0.71362305,\n",
       "       0.27685547, 0.08276367, 0.76879883, 0.11523438, 0.25292969,\n",
       "       0.78662109, 0.1315918 , 0.71166992, 0.79858398, 0.04931641,\n",
       "       0.67431641, 0.54443359, 0.08740234, 0.72631836, 0.20166016,\n",
       "       0.29760742, 0.60131836, 0.3449707 , 0.23339844, 0.45605469,\n",
       "       0.63183594, 0.05566406, 0.81713867, 0.63378906, 0.26074219,\n",
       "       0.1652832 , 0.57080078, 0.76953125, 0.80541992, 0.30444336,\n",
       "       0.31835938, 0.64575195, 0.19238281, 0.70678711, 0.24121094,\n",
       "       0.53857422, 0.62158203, 0.73120117, 0.25268555, 0.72705078,\n",
       "       0.15820312, 0.73461914, 0.64135742, 0.33325195, 0.32983398,\n",
       "       0.16137695, 0.82568359, 0.71777344, 0.22924805, 0.13354492,\n",
       "       0.69726562, 0.140625  , 0.72973633, 0.73388672, 0.22241211,\n",
       "       0.74658203, 0.08398438, 0.63183594, 0.60571289, 0.73388672,\n",
       "       0.08203125, 0.14135742, 0.61254883, 0.17700195, 0.16040039,\n",
       "       0.23974609, 0.7434082 , 0.74829102, 0.62011719, 0.16259766,\n",
       "       0.71923828, 0.04589844, 0.66088867, 0.07177734, 0.90112305,\n",
       "       0.3293457 , 0.64233398, 0.32519531, 0.20996094, 0.54199219,\n",
       "       0.28637695, 0.75170898, 0.10449219, 0.21337891, 0.22021484,\n",
       "       0.71435547, 0.56640625, 0.57177734, 0.18432617, 0.09741211,\n",
       "       0.72558594, 0.17285156, 0.58959961, 0.22460938, 0.67358398,\n",
       "       0.68554688, 0.22802734, 0.61401367, 0.10302734, 0.55200195,\n",
       "       0.77294922, 0.54858398, 0.90454102, 0.22387695, 0.50024414,\n",
       "       0.76367188])"
      ]
     },
     "execution_count": 52,
     "metadata": {},
     "output_type": "execute_result"
    }
   ],
   "source": [
    "from sklearn.linear_model import LinearRegression\n",
    "linear_model = LinearRegression()\n",
    "# fitting the model into the training dataset\n",
    "linear_model.fit(x_train, y_train)\n",
    "# obtaining predictions\n",
    "predicted_values = linear_model.predict(x_test)\n",
    "predicted_values"
   ]
  },
  {
   "cell_type": "code",
   "execution_count": 56,
   "id": "a2bbbc15",
   "metadata": {},
   "outputs": [
    {
     "data": {
      "text/plain": [
       "0.063"
      ]
     },
     "execution_count": 56,
     "metadata": {},
     "output_type": "execute_result"
    }
   ],
   "source": [
    "# MAE\n",
    "from sklearn.metrics import mean_absolute_error\n",
    "mae = mean_absolute_error(y_test, predicted_values)\n",
    "round(mae,3)"
   ]
  },
  {
   "cell_type": "code",
   "execution_count": 60,
   "id": "85741350",
   "metadata": {},
   "outputs": [
    {
     "data": {
      "text/plain": [
       "0.008"
      ]
     },
     "execution_count": 60,
     "metadata": {},
     "output_type": "execute_result"
    }
   ],
   "source": [
    "# RSS\n",
    "import numpy as np\n",
    "from sklearn.metrics import mean_squared_error\n",
    "rmse = np.sqrt(mean_squared_error(y_test, predicted_values))\n",
    "round(rmse, 3)"
   ]
  },
  {
   "cell_type": "code",
   "execution_count": 62,
   "id": "9adad683",
   "metadata": {},
   "outputs": [
    {
     "data": {
      "text/plain": [
       "0.892"
      ]
     },
     "execution_count": 62,
     "metadata": {},
     "output_type": "execute_result"
    }
   ],
   "source": [
    "from sklearn.metrics import r2_score\n",
    "r2_score = r2_score(y_test, predicted_values)\n",
    "round(r2_score, 3)"
   ]
  },
  {
   "cell_type": "code",
   "execution_count": null,
   "id": "61d475b4",
   "metadata": {},
   "outputs": [],
   "source": []
  }
 ],
 "metadata": {
  "kernelspec": {
   "display_name": "Python 3 (ipykernel)",
   "language": "python",
   "name": "python3"
  },
  "language_info": {
   "codemirror_mode": {
    "name": "ipython",
    "version": 3
   },
   "file_extension": ".py",
   "mimetype": "text/x-python",
   "name": "python",
   "nbconvert_exporter": "python",
   "pygments_lexer": "ipython3",
   "version": "3.10.6"
  }
 },
 "nbformat": 4,
 "nbformat_minor": 5
}
