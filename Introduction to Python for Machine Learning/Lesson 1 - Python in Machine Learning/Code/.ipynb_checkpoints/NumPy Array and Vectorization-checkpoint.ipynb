{
 "cells": [
  {
   "cell_type": "markdown",
   "id": "d875fb21",
   "metadata": {},
   "source": [
    "# Introduction to NumPy & Creating Arrays."
   ]
  },
  {
   "cell_type": "code",
   "execution_count": 2,
   "id": "c1f35760",
   "metadata": {},
   "outputs": [],
   "source": [
    "# Convention for importing numpy \n",
    "import numpy as np"
   ]
  },
  {
   "cell_type": "code",
   "execution_count": 3,
   "id": "f13b20d5",
   "metadata": {},
   "outputs": [
    {
     "name": "stdout",
     "output_type": "stream",
     "text": [
      "[1 2 3 4 5]\n"
     ]
    }
   ],
   "source": [
    "# Creating ndarray from Python list\n",
    "list = [1,2,3,4,5]\n",
    "#print(type(list))\n",
    "ndarray = np.array(list)\n",
    "print(ndarray)\n",
    "#print(ndarray)"
   ]
  },
  {
   "cell_type": "code",
   "execution_count": 5,
   "id": "8afddd5a",
   "metadata": {},
   "outputs": [
    {
     "name": "stdout",
     "output_type": "stream",
     "text": [
      "(5,)\n",
      "int32\n",
      "1\n",
      "int32\n"
     ]
    }
   ],
   "source": [
    "#.....\n",
    "print(ndarray.shape)\n",
    "print(ndarray.dtype)\n",
    "print(ndarray.ndim)\n",
    "print(ndarray.dtype)"
   ]
  },
  {
   "cell_type": "code",
   "execution_count": 7,
   "id": "dd3f5e8c",
   "metadata": {},
   "outputs": [
    {
     "name": "stdout",
     "output_type": "stream",
     "text": [
      "[[1, 2, 3, 4, 5], [6, 7, 8, 9, 10]]\n",
      "[[ 1  2  3  4  5]\n",
      " [ 6  7  8  9 10]]\n"
     ]
    }
   ],
   "source": [
    "# Creating ndarray from two Python lists\n",
    "lists = [[1,2,3,4,5],[6,7,8,9,10]] \n",
    "ndarray = np.array([[1,2,3,4,5],[6,7,8,9,10]])\n",
    "print(lists)\n",
    "print(ndarray)"
   ]
  },
  {
   "cell_type": "code",
   "execution_count": null,
   "id": "5f90c87e",
   "metadata": {},
   "outputs": [],
   "source": [
    "# inbuilt functions to initialize numpy\n",
    "empty()\n",
    "zeros()\n",
    "ones()\n",
    "full()\n",
    "random.random()"
   ]
  },
  {
   "cell_type": "code",
   "execution_count": 15,
   "id": "07755e8d",
   "metadata": {},
   "outputs": [
    {
     "name": "stdout",
     "output_type": "stream",
     "text": [
      "Random\n",
      "[[[[0.05746705 0.29999946 0.50720503 0.54271468 0.17209173]\n",
      "   [0.24825184 0.26973876 0.13815282 0.13165819 0.84512837]\n",
      "   [0.22567792 0.93285179 0.00442882 0.01051654 0.0392976 ]\n",
      "   [0.46194933 0.90527769 0.64958198 0.48133384 0.88999638]]]\n",
      "\n",
      "\n",
      " [[[0.85920619 0.1588139  0.32825617 0.85466787 0.23523375]\n",
      "   [0.50216157 0.02991497 0.31574315 0.40458959 0.69678526]\n",
      "   [0.48825736 0.58073211 0.08622627 0.22024386 0.41024577]\n",
      "   [0.73865656 0.23163654 0.3162478  0.66471066 0.37479469]]]]\n",
      "Full\n",
      "[[[[4 4 4 4 4]\n",
      "   [4 4 4 4 4]\n",
      "   [4 4 4 4 4]\n",
      "   [4 4 4 4 4]]]\n",
      "\n",
      "\n",
      " [[[4 4 4 4 4]\n",
      "   [4 4 4 4 4]\n",
      "   [4 4 4 4 4]\n",
      "   [4 4 4 4 4]]]]\n",
      "Ones\n",
      "[[[[1. 1. 1. 1. 1.]\n",
      "   [1. 1. 1. 1. 1.]\n",
      "   [1. 1. 1. 1. 1.]\n",
      "   [1. 1. 1. 1. 1.]]]\n",
      "\n",
      "\n",
      " [[[1. 1. 1. 1. 1.]\n",
      "   [1. 1. 1. 1. 1.]\n",
      "   [1. 1. 1. 1. 1.]\n",
      "   [1. 1. 1. 1. 1.]]]]\n",
      "Zeros\n",
      "[[[[0. 0. 0. 0. 0.]\n",
      "   [0. 0. 0. 0. 0.]\n",
      "   [0. 0. 0. 0. 0.]\n",
      "   [0. 0. 0. 0. 0.]]]\n",
      "\n",
      "\n",
      " [[[0. 0. 0. 0. 0.]\n",
      "   [0. 0. 0. 0. 0.]\n",
      "   [0. 0. 0. 0. 0.]\n",
      "   [0. 0. 0. 0. 0.]]]]\n",
      "Empty\n",
      "[[[[0. 0. 0. 0. 0.]\n",
      "   [0. 0. 0. 0. 0.]\n",
      "   [0. 0. 0. 0. 0.]\n",
      "   [0. 0. 0. 0. 0.]]]\n",
      "\n",
      "\n",
      " [[[0. 0. 0. 0. 0.]\n",
      "   [0. 0. 0. 0. 0.]\n",
      "   [0. 0. 0. 0. 0.]\n",
      "   [0. 0. 0. 0. 0.]]]]\n"
     ]
    }
   ],
   "source": [
    "# eexamples\n",
    "scores = [2,1,4,5]\n",
    "print(\"Random\")\n",
    "print(np.random.random(scores))\n",
    "print(\"Full\")\n",
    "print(np.full(scores,4))\n",
    "print(\"Ones\")\n",
    "print(np.ones(scores))\n",
    "print(\"Zeros\")\n",
    "print(np.zeros(scores))\n",
    "print(\"Empty\")\n",
    "print(np.empty(scores))"
   ]
  },
  {
   "cell_type": "markdown",
   "id": "2c079ecc",
   "metadata": {},
   "source": [
    "# Intra-operability of Arrays and Scalars."
   ]
  },
  {
   "cell_type": "code",
   "execution_count": 16,
   "id": "c610eee3",
   "metadata": {},
   "outputs": [
    {
     "name": "stdout",
     "output_type": "stream",
     "text": [
      "[[13. 13. 13.]\n",
      " [10. 10. 10.]]\n",
      "[[36. 40. 42.]\n",
      " [ 9. 16. 21.]]\n",
      "[[1.25       1.         0.83333333]\n",
      " [0.55555556 0.625      0.71428571]]\n",
      "[[81. 64. 49.]\n",
      " [ 1.  4.  9.]]\n"
     ]
    }
   ],
   "source": [
    "a = np.array([[9.0,8.0,7.0],[1.0,2.0,3.0]])\n",
    "b = np.array([[4.0,5.0,6.0],[9.0,8.0,7.0]])\n",
    "print(a + b)\n",
    "print(a * b)\n",
    "print(5 / b)\n",
    "print(a ** 2)"
   ]
  },
  {
   "cell_type": "markdown",
   "id": "3a19b428",
   "metadata": {},
   "source": [
    "# Indexing With Arrays & Using Arrays for Data Processing"
   ]
  },
  {
   "cell_type": "code",
   "execution_count": 21,
   "id": "c9f42962",
   "metadata": {},
   "outputs": [
    {
     "name": "stdout",
     "output_type": "stream",
     "text": [
      "2\n",
      "6\n",
      "4 16\n"
     ]
    }
   ],
   "source": [
    "# Indexing Arrays\n",
    "x = [1,2,3,4]\n",
    "y = [5,6,7,8]\n",
    "print(x[1])\n",
    "print(y[1])\n",
    "a_and_b = np.array([[2,4,6,8],[10,12,14,16]])\n",
    "print(a_and_b[0,1],a_and_b[1,3])"
   ]
  },
  {
   "cell_type": "code",
   "execution_count": 22,
   "id": "0653bfb6",
   "metadata": {},
   "outputs": [
    {
     "name": "stdout",
     "output_type": "stream",
     "text": [
      "[10 12]\n",
      "[[18]\n",
      " [26]]\n"
     ]
    }
   ],
   "source": [
    "# Slicing Arrays\n",
    "a_and_b = np.array([[2,4,6,8],[10,12,14,16]])\n",
    "print(a_and_b[1,0:2])\n",
    "c_and_d = np.array([[18,20,22,24],[26,28,30,32],[34,36,38,40]])\n",
    "print(c_and_d[:2, :1])"
   ]
  },
  {
   "cell_type": "code",
   "execution_count": 23,
   "id": "b8953614",
   "metadata": {},
   "outputs": [
    {
     "name": "stdout",
     "output_type": "stream",
     "text": [
      "[40 30 20]\n"
     ]
    },
    {
     "data": {
      "text/plain": [
       "array([30, 32, 34, 36, 38, 40])"
      ]
     },
     "execution_count": 23,
     "metadata": {},
     "output_type": "execute_result"
    }
   ],
   "source": [
    "# Advanced Methods \n",
    "# Integer Indexing\n",
    "c_and_d = np.array([[18,20,22,24],[26,28,30,32],[34,36,38,40]])\n",
    "print(c_and_d[[2,1,0],[3,2,1]])\n",
    "# Boolean Indexing\n",
    "c_and_d[c_and_d >= 30]"
   ]
  },
  {
   "cell_type": "code",
   "execution_count": null,
   "id": "9f161129",
   "metadata": {},
   "outputs": [],
   "source": [
    "# inbuilt mathematical functions\n",
    "sum()\n",
    "mean()\n",
    "std()\n",
    "coorcoef()\n",
    "min()"
   ]
  },
  {
   "cell_type": "markdown",
   "id": "89212038",
   "metadata": {},
   "source": [
    "# File Input and Output With Arrays"
   ]
  },
  {
   "cell_type": "code",
   "execution_count": null,
   "id": "a5994e2d",
   "metadata": {},
   "outputs": [],
   "source": [
    "#Numpy arrays can be loaded from and saved to binary files with .npy as the extension using load() and save() respectively. \n",
    "#This can also be done with text files using loadtxt() and savetxt()."
   ]
  }
 ],
 "metadata": {
  "kernelspec": {
   "display_name": "Python 3 (ipykernel)",
   "language": "python",
   "name": "python3"
  },
  "language_info": {
   "codemirror_mode": {
    "name": "ipython",
    "version": 3
   },
   "file_extension": ".py",
   "mimetype": "text/x-python",
   "name": "python",
   "nbconvert_exporter": "python",
   "pygments_lexer": "ipython3",
   "version": "3.10.5"
  }
 },
 "nbformat": 4,
 "nbformat_minor": 5
}
